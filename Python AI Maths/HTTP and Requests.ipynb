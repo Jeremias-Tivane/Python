{
 "cells": [
  {
   "cell_type": "code",
   "execution_count": 1,
   "id": "e3373de0-d14a-4bbb-bab7-cceb9a343491",
   "metadata": {},
   "outputs": [],
   "source": [
    "import requests"
   ]
  },
  {
   "cell_type": "code",
   "execution_count": 2,
   "id": "38bb343e-8923-4e3f-89f9-07e2c38b70ce",
   "metadata": {},
   "outputs": [],
   "source": [
    "import os \n",
    "from PIL import Image\n",
    "from IPython.display import IFrame"
   ]
  },
  {
   "cell_type": "code",
   "execution_count": 3,
   "id": "14cfb2c1-806d-4f08-b13b-4f3518910ebb",
   "metadata": {},
   "outputs": [],
   "source": [
    "url='https://www.ibm.com/'\n",
    "r=requests.get(url)\n"
   ]
  },
  {
   "cell_type": "code",
   "execution_count": 4,
   "id": "ca145c79-d741-4d1c-9699-5c442ad26ae3",
   "metadata": {},
   "outputs": [
    {
     "data": {
      "text/plain": [
       "200"
      ]
     },
     "execution_count": 4,
     "metadata": {},
     "output_type": "execute_result"
    }
   ],
   "source": [
    "r.status_code"
   ]
  },
  {
   "cell_type": "code",
   "execution_count": 5,
   "id": "6351de56-446c-42fa-a8bf-7216805912bb",
   "metadata": {},
   "outputs": [
    {
     "name": "stdout",
     "output_type": "stream",
     "text": [
      "{'User-Agent': 'python-requests/2.25.1', 'Accept-Encoding': 'gzip, deflate', 'Accept': '*/*', 'Connection': 'keep-alive', 'Cookie': '_abck=11EF1EC590A5DC8F82A41F52FA98340D~-1~YAAQJ+8uF/nkWBZ7AQAAEe9EIgZ89L/qTyDuGfuuoJHgygjEJchHxfyU2jL9D4H4HNKf7+m6m6BDZR4yJVUCaJZmVGIIOhZV/vNWTtNv6yewm967v6qxoC0lH8P2kDkTHH/lvLyaaiyj/454Cim4uTe1NJgcbVFWJDb1AS1qmwRIX54HNUnKZUx71C2nw+t5baQpRNTQGsGeozxDEpGiFU/94Pg2D/K3fd+jBG18NuIqOdk7qZMT17Hyzc7Yna1ewrIBqzVmW1dKtDND2/1m5C4pD3EdItsCbxd4Echur61zsLzs2QjdPGb2iwV+nbIuKX+CHOwpw+1XoTybRd0F5Eb8lDbFkI114mOjhmprYdpjD/G/ghY=~-1~-1~-1; bm_sz=CCF869164837DCB54951FE940AB2C737~YAAQJ+8uF/rkWBZ7AQAAEe9EIgwAHv0b16VsPO0jGRRcWL+gAxdG6OS/5qQ9uTNJ5OIZBr/ZaYNVDRwCygobFTSoWll4ylX0eyc262ANPh72y+1s0TnJdClr1HueA7VM5+ZoVyTl4Aek6pyH3RY1IVcRaK1wf/1ssRVddslBNqStARBdQT/fwrK7Ehdcxb7XdbcpRO3tPXzUztwpdGM0ZNwyi+asenl9J9GgKPMC4HI9MS02MCnWEfx3CV5U0Regm5KGintRl6j8wkS47lwoTovLpUwwZPpS5lWcy7UOo+8=~4535093~4534320'}\n"
     ]
    }
   ],
   "source": [
    "print(r.request.headers)"
   ]
  },
  {
   "cell_type": "code",
   "execution_count": 6,
   "id": "6ff41f4c-246b-42e8-bc70-8c4ade7f354d",
   "metadata": {},
   "outputs": [
    {
     "name": "stdout",
     "output_type": "stream",
     "text": [
      "request body: None\n"
     ]
    }
   ],
   "source": [
    "print(\"request body:\", r.request.body)"
   ]
  },
  {
   "cell_type": "code",
   "execution_count": 7,
   "id": "daa330d5-d007-4206-bea3-aef122ca2df7",
   "metadata": {},
   "outputs": [
    {
     "name": "stdout",
     "output_type": "stream",
     "text": [
      "{'Cache-Control': 'max-age=301', 'Expires': 'Tue, 03 Aug 2021 15:32:35 GMT', 'Last-Modified': 'Tue, 03 Aug 2021 14:40:45 GMT', 'ETag': '\"1485d-5c8a8abc8ba54\"', 'Accept-Ranges': 'bytes', 'Content-Encoding': 'gzip', 'Content-Type': 'text/html', 'X-Akamai-Transformed': '9 16804 0 pmb=mTOE,1', 'Date': 'Sat, 07 Aug 2021 20:19:08 GMT', 'Content-Length': '16869', 'Connection': 'keep-alive', 'Vary': 'Accept-Encoding', 'x-content-type-options': 'nosniff', 'X-XSS-Protection': '1; mode=block', 'Content-Security-Policy': 'upgrade-insecure-requests', 'Strict-Transport-Security': 'max-age=31536000'}\n"
     ]
    }
   ],
   "source": [
    "header=r.headers\n",
    "print(r.headers)"
   ]
  },
  {
   "cell_type": "code",
   "execution_count": 8,
   "id": "f3533610-39aa-4fc6-87cf-5339aedf59d3",
   "metadata": {},
   "outputs": [
    {
     "data": {
      "text/plain": [
       "'Sat, 07 Aug 2021 20:19:08 GMT'"
      ]
     },
     "execution_count": 8,
     "metadata": {},
     "output_type": "execute_result"
    }
   ],
   "source": [
    "header['date']"
   ]
  },
  {
   "cell_type": "code",
   "execution_count": 10,
   "id": "0f0782bb-12b8-47e5-b398-acbf2d883c9c",
   "metadata": {},
   "outputs": [
    {
     "data": {
      "text/plain": [
       "'text/html'"
      ]
     },
     "execution_count": 10,
     "metadata": {},
     "output_type": "execute_result"
    }
   ],
   "source": [
    "header['Content-Type']"
   ]
  },
  {
   "cell_type": "code",
   "execution_count": 11,
   "id": "e6e7671c-5dfe-45cd-8af4-efe0903d62e2",
   "metadata": {},
   "outputs": [
    {
     "data": {
      "text/plain": [
       "'ISO-8859-1'"
      ]
     },
     "execution_count": 11,
     "metadata": {},
     "output_type": "execute_result"
    }
   ],
   "source": [
    " r.encoding"
   ]
  },
  {
   "cell_type": "code",
   "execution_count": 12,
   "id": "eb40b31f-8213-41c8-9dce-7fc8ab4bf145",
   "metadata": {},
   "outputs": [
    {
     "data": {
      "text/plain": [
       "'<!DOCTYPE html><html lang=\"en-US\"><head><meta name=\"viewport\" content=\"width=device-width\"/><meta ch'"
      ]
     },
     "execution_count": 12,
     "metadata": {},
     "output_type": "execute_result"
    }
   ],
   "source": [
    "r.text[0:100]"
   ]
  },
  {
   "cell_type": "code",
   "execution_count": 13,
   "id": "2b0c3c39-8029-460c-975b-14819da24738",
   "metadata": {},
   "outputs": [],
   "source": [
    "r=requests.get(url)"
   ]
  },
  {
   "cell_type": "code",
   "execution_count": 14,
   "id": "6fb14d9a-dade-4bd4-8008-7a390a7a92e4",
   "metadata": {},
   "outputs": [
    {
     "name": "stdout",
     "output_type": "stream",
     "text": [
      "{'Cache-Control': 'max-age=301', 'Expires': 'Tue, 03 Aug 2021 15:32:35 GMT', 'Last-Modified': 'Tue, 03 Aug 2021 14:40:45 GMT', 'ETag': '\"1485d-5c8a8abc8ba54\"', 'Accept-Ranges': 'bytes', 'Content-Encoding': 'gzip', 'Content-Type': 'text/html', 'X-Akamai-Transformed': '9 16804 0 pmb=mTOE,1', 'Date': 'Sat, 07 Aug 2021 20:20:42 GMT', 'Content-Length': '16869', 'Connection': 'keep-alive', 'Vary': 'Accept-Encoding', 'x-content-type-options': 'nosniff', 'X-XSS-Protection': '1; mode=block', 'Content-Security-Policy': 'upgrade-insecure-requests', 'Strict-Transport-Security': 'max-age=31536000'}\n"
     ]
    }
   ],
   "source": [
    "print(r.headers)"
   ]
  },
  {
   "cell_type": "code",
   "execution_count": 15,
   "id": "b0b32a2a-91ce-444c-9fea-dafb2ba6ddc7",
   "metadata": {},
   "outputs": [
    {
     "data": {
      "text/plain": [
       "'text/html'"
      ]
     },
     "execution_count": 15,
     "metadata": {},
     "output_type": "execute_result"
    }
   ],
   "source": [
    "r.headers['Content-Type']"
   ]
  },
  {
   "cell_type": "code",
   "execution_count": 16,
   "id": "de991897-8356-47ee-97bd-bf0a762f3603",
   "metadata": {},
   "outputs": [
    {
     "data": {
      "text/plain": [
       "'/resources/labs/image.png'"
      ]
     },
     "execution_count": 16,
     "metadata": {},
     "output_type": "execute_result"
    }
   ],
   "source": [
    "path=os.path.join(os.getcwd(),'image.png')\n",
    "path"
   ]
  },
  {
   "cell_type": "code",
   "execution_count": 19,
   "id": "377feceb-d9a2-458b-a4b0-5a52b45b1f3a",
   "metadata": {},
   "outputs": [],
   "source": [
    "with open(path,'wb') as f:\n",
    "    f.write(r.content)"
   ]
  },
  {
   "cell_type": "code",
   "execution_count": 20,
   "id": "ae7894c5-f1e8-4fbe-a61d-0353a7a6d53e",
   "metadata": {},
   "outputs": [
    {
     "ename": "UnidentifiedImageError",
     "evalue": "cannot identify image file '/resources/labs/image.png'",
     "output_type": "error",
     "traceback": [
      "\u001b[0;31m---------------------------------------------------------------------------\u001b[0m",
      "\u001b[0;31mUnidentifiedImageError\u001b[0m                    Traceback (most recent call last)",
      "\u001b[0;32m<ipython-input-20-879d94d56ed0>\u001b[0m in \u001b[0;36m<module>\u001b[0;34m\u001b[0m\n\u001b[0;32m----> 1\u001b[0;31m \u001b[0mImage\u001b[0m\u001b[0;34m.\u001b[0m\u001b[0mopen\u001b[0m\u001b[0;34m(\u001b[0m\u001b[0mpath\u001b[0m\u001b[0;34m)\u001b[0m\u001b[0;34m\u001b[0m\u001b[0;34m\u001b[0m\u001b[0m\n\u001b[0m",
      "\u001b[0;32m~/conda/envs/python/lib/python3.6/site-packages/PIL/Image.py\u001b[0m in \u001b[0;36mopen\u001b[0;34m(fp, mode, formats)\u001b[0m\n\u001b[1;32m   3022\u001b[0m         \u001b[0mwarnings\u001b[0m\u001b[0;34m.\u001b[0m\u001b[0mwarn\u001b[0m\u001b[0;34m(\u001b[0m\u001b[0mmessage\u001b[0m\u001b[0;34m)\u001b[0m\u001b[0;34m\u001b[0m\u001b[0;34m\u001b[0m\u001b[0m\n\u001b[1;32m   3023\u001b[0m     raise UnidentifiedImageError(\n\u001b[0;32m-> 3024\u001b[0;31m         \u001b[0;34m\"cannot identify image file %r\"\u001b[0m \u001b[0;34m%\u001b[0m \u001b[0;34m(\u001b[0m\u001b[0mfilename\u001b[0m \u001b[0;32mif\u001b[0m \u001b[0mfilename\u001b[0m \u001b[0;32melse\u001b[0m \u001b[0mfp\u001b[0m\u001b[0;34m)\u001b[0m\u001b[0;34m\u001b[0m\u001b[0;34m\u001b[0m\u001b[0m\n\u001b[0m\u001b[1;32m   3025\u001b[0m     )\n\u001b[1;32m   3026\u001b[0m \u001b[0;34m\u001b[0m\u001b[0m\n",
      "\u001b[0;31mUnidentifiedImageError\u001b[0m: cannot identify image file '/resources/labs/image.png'"
     ]
    }
   ],
   "source": [
    "Image.open(path)  "
   ]
  },
  {
   "cell_type": "code",
   "execution_count": 21,
   "id": "fa7fe6dd-e606-4043-9204-7677a1534838",
   "metadata": {},
   "outputs": [],
   "source": [
    "url='https://cf-courses-data.s3.us.cloud-object-storage.appdomain.cloud/IBMDeveloperSkillsNetwork-PY0101EN-SkillsNetwork/labs/Module%205/data/Example1.txt'\n",
    "path=os.path.join(os.getcwd(),'example1.txt')\n",
    "r=requests.get(url)\n",
    "with open(path,'wb') as f:\n",
    "    f.write(r.content)"
   ]
  },
  {
   "cell_type": "code",
   "execution_count": 22,
   "id": "a0de0c6f-faac-47ca-a155-1d4975cd5ce7",
   "metadata": {},
   "outputs": [],
   "source": [
    "url_get='http://httpbin.org/get'"
   ]
  },
  {
   "cell_type": "code",
   "execution_count": 23,
   "id": "8dfb96bf-4d2a-4013-94ea-302574aaa684",
   "metadata": {},
   "outputs": [],
   "source": [
    "payload={\"name\":\"Joseph\",\"ID\":\"123\"}"
   ]
  },
  {
   "cell_type": "code",
   "execution_count": 24,
   "id": "69676199-7a0e-407b-b685-0b4b747d815b",
   "metadata": {},
   "outputs": [],
   "source": [
    "r=requests.get(url_get,params=payload)"
   ]
  },
  {
   "cell_type": "code",
   "execution_count": 25,
   "id": "d0c67c98-b0dd-4c10-9dbb-0ea22efc61fa",
   "metadata": {},
   "outputs": [
    {
     "data": {
      "text/plain": [
       "'http://httpbin.org/get?name=Joseph&ID=123'"
      ]
     },
     "execution_count": 25,
     "metadata": {},
     "output_type": "execute_result"
    }
   ],
   "source": [
    "r.url"
   ]
  },
  {
   "cell_type": "code",
   "execution_count": 26,
   "id": "760c81de-3ad8-42a0-8489-d6b6aface9be",
   "metadata": {},
   "outputs": [
    {
     "name": "stdout",
     "output_type": "stream",
     "text": [
      "request body: None\n"
     ]
    }
   ],
   "source": [
    "print(\"request body:\", r.request.body)"
   ]
  },
  {
   "cell_type": "code",
   "execution_count": 27,
   "id": "70942089-e2c5-4193-a017-d0cf66838ebd",
   "metadata": {},
   "outputs": [
    {
     "name": "stdout",
     "output_type": "stream",
     "text": [
      "200\n"
     ]
    }
   ],
   "source": [
    "print(r.status_code)"
   ]
  },
  {
   "cell_type": "code",
   "execution_count": 28,
   "id": "3d4cee8a-2641-4aef-9d1c-a79eaf3204ac",
   "metadata": {},
   "outputs": [
    {
     "name": "stdout",
     "output_type": "stream",
     "text": [
      "{\n",
      "  \"args\": {\n",
      "    \"ID\": \"123\", \n",
      "    \"name\": \"Joseph\"\n",
      "  }, \n",
      "  \"headers\": {\n",
      "    \"Accept\": \"*/*\", \n",
      "    \"Accept-Encoding\": \"gzip, deflate\", \n",
      "    \"Host\": \"httpbin.org\", \n",
      "    \"User-Agent\": \"python-requests/2.25.1\", \n",
      "    \"X-Amzn-Trace-Id\": \"Root=1-610eeb97-4335b4801994b4b5365c1f43\"\n",
      "  }, \n",
      "  \"origin\": \"52.117.120.36\", \n",
      "  \"url\": \"http://httpbin.org/get?name=Joseph&ID=123\"\n",
      "}\n",
      "\n"
     ]
    }
   ],
   "source": [
    "print(r.text)"
   ]
  },
  {
   "cell_type": "code",
   "execution_count": 29,
   "id": "1d292287-e8b8-4cd1-bae0-5581aade5380",
   "metadata": {},
   "outputs": [
    {
     "data": {
      "text/plain": [
       "'application/json'"
      ]
     },
     "execution_count": 29,
     "metadata": {},
     "output_type": "execute_result"
    }
   ],
   "source": [
    "r.headers['Content-Type']"
   ]
  },
  {
   "cell_type": "code",
   "execution_count": 30,
   "id": "487965ce-ad6f-4cdf-8adc-5cc8c28201b4",
   "metadata": {},
   "outputs": [
    {
     "data": {
      "text/plain": [
       "{'args': {'ID': '123', 'name': 'Joseph'},\n",
       " 'headers': {'Accept': '*/*',\n",
       "  'Accept-Encoding': 'gzip, deflate',\n",
       "  'Host': 'httpbin.org',\n",
       "  'User-Agent': 'python-requests/2.25.1',\n",
       "  'X-Amzn-Trace-Id': 'Root=1-610eeb97-4335b4801994b4b5365c1f43'},\n",
       " 'origin': '52.117.120.36',\n",
       " 'url': 'http://httpbin.org/get?name=Joseph&ID=123'}"
      ]
     },
     "execution_count": 30,
     "metadata": {},
     "output_type": "execute_result"
    }
   ],
   "source": [
    "r.json()"
   ]
  },
  {
   "cell_type": "code",
   "execution_count": 31,
   "id": "d618aff2-4ab3-4474-b540-6e657f22a07d",
   "metadata": {},
   "outputs": [
    {
     "data": {
      "text/plain": [
       "{'ID': '123', 'name': 'Joseph'}"
      ]
     },
     "execution_count": 31,
     "metadata": {},
     "output_type": "execute_result"
    }
   ],
   "source": [
    "r.json()['args']"
   ]
  },
  {
   "cell_type": "code",
   "execution_count": 32,
   "id": "3b300cc1-95dd-4053-a849-4bbd985267ac",
   "metadata": {},
   "outputs": [],
   "source": [
    "url_post='http://httpbin.org/post'"
   ]
  },
  {
   "cell_type": "code",
   "execution_count": 33,
   "id": "512a0020-26e1-4ca0-8940-3999106248de",
   "metadata": {},
   "outputs": [],
   "source": [
    "r_post=requests.post(url_post,data=payload)"
   ]
  },
  {
   "cell_type": "code",
   "execution_count": 34,
   "id": "bf5a1c30-f5ef-4974-90ac-cebe17ec017e",
   "metadata": {},
   "outputs": [
    {
     "name": "stdout",
     "output_type": "stream",
     "text": [
      "POST request URL: http://httpbin.org/post\n",
      "GET request URL: http://httpbin.org/get?name=Joseph&ID=123\n"
     ]
    }
   ],
   "source": [
    "print(\"POST request URL:\",r_post.url )\n",
    "print(\"GET request URL:\",r.url)"
   ]
  },
  {
   "cell_type": "code",
   "execution_count": 35,
   "id": "f9cdb164-9d6a-4bbb-88e8-2d261910995c",
   "metadata": {},
   "outputs": [
    {
     "name": "stdout",
     "output_type": "stream",
     "text": [
      "POST request body: name=Joseph&ID=123\n",
      "GET request body: None\n"
     ]
    }
   ],
   "source": [
    "print(\"POST request body:\",r_post.request.body)\n",
    "print(\"GET request body:\",r.request.body)"
   ]
  },
  {
   "cell_type": "code",
   "execution_count": 36,
   "id": "e0dc5882-f899-48ed-a027-ea3b44d3ed05",
   "metadata": {},
   "outputs": [
    {
     "data": {
      "text/plain": [
       "{'ID': '123', 'name': 'Joseph'}"
      ]
     },
     "execution_count": 36,
     "metadata": {},
     "output_type": "execute_result"
    }
   ],
   "source": [
    "r_post.json()['form']"
   ]
  },
  {
   "cell_type": "code",
   "execution_count": null,
   "id": "1055b0b2-6424-44e1-8f71-811f1003d548",
   "metadata": {},
   "outputs": [],
   "source": []
  }
 ],
 "metadata": {
  "kernelspec": {
   "display_name": "Python",
   "language": "python",
   "name": "conda-env-python-py"
  },
  "language_info": {
   "codemirror_mode": {
    "name": "ipython",
    "version": 3
   },
   "file_extension": ".py",
   "mimetype": "text/x-python",
   "name": "python",
   "nbconvert_exporter": "python",
   "pygments_lexer": "ipython3",
   "version": "3.6.13"
  }
 },
 "nbformat": 4,
 "nbformat_minor": 5
}
