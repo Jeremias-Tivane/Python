{
 "cells": [
  {
   "cell_type": "code",
   "execution_count": 86,
   "id": "d2f116f7",
   "metadata": {},
   "outputs": [],
   "source": [
    "import pandas as pd;\n",
    "import numpy as np;"
   ]
  },
  {
   "cell_type": "code",
   "execution_count": 87,
   "id": "9b868d7e",
   "metadata": {},
   "outputs": [
    {
     "name": "stdout",
     "output_type": "stream",
     "text": [
      "[1 2 3]\n",
      "(3,)\n",
      "1 2 3\n",
      "[5 2 3]\n",
      "[[1 2 3]\n",
      " [4 5 6]]\n",
      "(2, 3)\n",
      "1\n",
      "[1.  2.1 3.4]\n"
     ]
    }
   ],
   "source": [
    "a = np.array([1,2,3])\n",
    "print(a)\n",
    "print(a.shape)\n",
    "print (a[0], a[1], a[2])\n",
    "a[0]=5\n",
    "print (a)\n",
    "\n",
    "b=np.array([[1,2,3],\n",
    "            [4,5,6]])\n",
    "print(b)\n",
    "print(b.shape)\n",
    "print(b[0,0])\n",
    "\n",
    "c=np.array([1.0,2.1,3.4])\n",
    "print(c)"
   ]
  },
  {
   "cell_type": "code",
   "execution_count": 88,
   "id": "1da611d2",
   "metadata": {},
   "outputs": [
    {
     "name": "stdout",
     "output_type": "stream",
     "text": [
      "[[0. 0. 0.]\n",
      " [0. 0. 0.]]\n",
      "[[1. 1.]]\n",
      "[[7 7 7]\n",
      " [7 7 7]]\n",
      "[[0.30574529 0.35769305 0.5442511 ]\n",
      " [0.22200135 0.97431655 0.49059487]\n",
      " [0.55137506 0.91032703 0.46568841]]\n"
     ]
    }
   ],
   "source": [
    "a = np.zeros((2,3))\n",
    "print(a)\n",
    "\n",
    "b=np.ones((1,2))\n",
    "print(b)\n",
    "\n",
    "c=np.full((2,3), 7)\n",
    "print(c)\n",
    "\n",
    "e = np.random.random((3,3))\n",
    "print(e)"
   ]
  },
  {
   "cell_type": "code",
   "execution_count": 89,
   "id": "0d872f05",
   "metadata": {},
   "outputs": [
    {
     "name": "stdout",
     "output_type": "stream",
     "text": [
      "[[ 1  2  3  4]\n",
      " [ 5  6  7  8]\n",
      " [ 9 10 11 12]]\n",
      "[[2 3]\n",
      " [6 7]]\n",
      "2\n",
      "75\n",
      "[[ 1 75  3  4]\n",
      " [ 5  6  7  8]\n",
      " [ 9 10 11 12]]\n"
     ]
    }
   ],
   "source": [
    "a = np.array([[1,2,3,4],\n",
    "           [5,6,7,8],\n",
    "           [9,10,11,12]])\n",
    "print(a)\n",
    "\n",
    "b=a[:2, 1:3]\n",
    "print(b)\n",
    "\n",
    "print(a[0,1])\n",
    "b[0,0]=75\n",
    "print(a[0,1])\n",
    "print(a)"
   ]
  },
  {
   "cell_type": "code",
   "execution_count": 90,
   "id": "cd2c59dc",
   "metadata": {},
   "outputs": [
    {
     "name": "stdout",
     "output_type": "stream",
     "text": [
      "[[1 2]\n",
      " [2 4]\n",
      " [5 6]]\n",
      "[[False False]\n",
      " [False  True]\n",
      " [ True  True]]\n",
      "[4 5 6]\n"
     ]
    }
   ],
   "source": [
    "a = np.array([[1,2],\n",
    "             [2,4],\n",
    "             [5,6]])\n",
    "print(a)\n",
    "print(a>2)\n",
    "print(a[a>2])"
   ]
  },
  {
   "cell_type": "code",
   "execution_count": 91,
   "id": "a9b06124",
   "metadata": {},
   "outputs": [
    {
     "name": "stdout",
     "output_type": "stream",
     "text": [
      "[[ 6  8]\n",
      " [10 12]]\n",
      "[[-4 -4]\n",
      " [-4 -4]]\n",
      "[[ 5 12]\n",
      " [21 32]]\n",
      "[[0.2        0.33333333]\n",
      " [0.42857143 0.5       ]]\n"
     ]
    }
   ],
   "source": [
    "x=np.array([[1,2],\n",
    "          [3,4]])\n",
    "y=np.array([[5,6],\n",
    "          [7,8]])\n",
    "print(np.add(x,y))\n",
    "print(np.subtract(x,y))\n",
    "print(np.multiply(x,y))\n",
    "      \n",
    "print(x/y)"
   ]
  },
  {
   "cell_type": "code",
   "execution_count": 92,
   "id": "aaa584bd",
   "metadata": {},
   "outputs": [
    {
     "name": "stdout",
     "output_type": "stream",
     "text": [
      "10\n",
      "[4 6]\n",
      "[3 7]\n"
     ]
    }
   ],
   "source": [
    "print(np.sum(x))\n",
    "print(np.sum(x, axis=0))\n",
    "print(np.sum(x, axis=1))"
   ]
  },
  {
   "cell_type": "code",
   "execution_count": 93,
   "id": "7890d04a",
   "metadata": {},
   "outputs": [
    {
     "name": "stdout",
     "output_type": "stream",
     "text": [
      "1       Rich\n",
      "2    Michael\n",
      "3        Sue\n",
      "4       Kath\n",
      "dtype: object\n"
     ]
    }
   ],
   "source": [
    "s = pd.Series(['John', 'Rich', 'Michael', 'Sue', 'Kath'])\n",
    "#print(s)\n",
    "#print(s[0])\n",
    "#print(s[1:4])\n",
    "#print(s[[0,1,3]])\n",
    "\n",
    "param = s != 'John'\n",
    "print(s[param])"
   ]
  },
  {
   "cell_type": "code",
   "execution_count": 94,
   "id": "0ce4c47b",
   "metadata": {},
   "outputs": [
    {
     "name": "stdout",
     "output_type": "stream",
     "text": [
      "New York         1300\n",
      "Chicago           900\n",
      "San Francisco    1100\n",
      "Austin            450\n",
      "dtype: int64\n"
     ]
    }
   ],
   "source": [
    "d = {'New York': 1300,\n",
    "     'Chicago' : 900,\n",
    "     'San Francisco' : 1100,\n",
    "     'Austin' : 450    \n",
    "}\n",
    "cities = pd.Series(d)\n",
    "print(cities)\n"
   ]
  },
  {
   "cell_type": "code",
   "execution_count": 95,
   "id": "27eeba7b",
   "metadata": {},
   "outputs": [
    {
     "data": {
      "text/plain": [
       "Chicago           900\n",
       "San Francisco    1100\n",
       "dtype: int64"
      ]
     },
     "execution_count": 95,
     "metadata": {},
     "output_type": "execute_result"
    }
   ],
   "source": [
    "cities[['Chicago', 'San Francisco']]"
   ]
  },
  {
   "cell_type": "code",
   "execution_count": 96,
   "id": "5fa19a98",
   "metadata": {},
   "outputs": [
    {
     "data": {
      "text/plain": [
       "Chicago    900\n",
       "Austin     450\n",
       "dtype: int64"
      ]
     },
     "execution_count": 96,
     "metadata": {},
     "output_type": "execute_result"
    }
   ],
   "source": [
    "#Total population under 1000\n",
    "cities[cities < 1000]"
   ]
  },
  {
   "cell_type": "code",
   "execution_count": 97,
   "id": "22cbb4bf",
   "metadata": {},
   "outputs": [
    {
     "data": {
      "text/plain": [
       "New York         1300\n",
       "San Francisco    1100\n",
       "dtype: int64"
      ]
     },
     "execution_count": 97,
     "metadata": {},
     "output_type": "execute_result"
    }
   ],
   "source": [
    "#Total population under 1000\n",
    "cities[cities > 1000]"
   ]
  },
  {
   "cell_type": "code",
   "execution_count": 98,
   "id": "22068fda",
   "metadata": {},
   "outputs": [
    {
     "name": "stdout",
     "output_type": "stream",
     "text": [
      "New York         1300\n",
      "Chicago           750\n",
      "San Francisco    1100\n",
      "Austin            750\n",
      "dtype: int64\n"
     ]
    }
   ],
   "source": [
    "cities[cities < 1000] = 750\n",
    "print(cities)"
   ]
  },
  {
   "cell_type": "code",
   "execution_count": 101,
   "id": "8f27d5a7",
   "metadata": {},
   "outputs": [
    {
     "name": "stdout",
     "output_type": "stream",
     "text": [
      "  pclass    age   sex survived\n",
      "0    1st  adult  male      yes\n",
      "1    1st  adult  male      yes\n",
      "2    1st  adult  male      yes\n",
      "3    1st  adult  male      yes\n",
      "4    1st  adult  male      yes\n"
     ]
    }
   ],
   "source": [
    "titanic = pd.read_csv('Titanic.txt', sep='\\t')\n",
    "print(titanic.head())"
   ]
  },
  {
   "cell_type": "code",
   "execution_count": 105,
   "id": "7bd0099c",
   "metadata": {},
   "outputs": [
    {
     "data": {
      "text/plain": [
       "0       adult\n",
       "1       adult\n",
       "2       adult\n",
       "3       adult\n",
       "4       adult\n",
       "        ...  \n",
       "2196    adult\n",
       "2197    adult\n",
       "2198    adult\n",
       "2199    adult\n",
       "2200    adult\n",
       "Name: age, Length: 2201, dtype: object"
      ]
     },
     "execution_count": 105,
     "metadata": {},
     "output_type": "execute_result"
    }
   ],
   "source": [
    "titanic['age']"
   ]
  },
  {
   "cell_type": "code",
   "execution_count": 106,
   "id": "e863ad47",
   "metadata": {},
   "outputs": [
    {
     "data": {
      "text/html": [
       "<div>\n",
       "<style scoped>\n",
       "    .dataframe tbody tr th:only-of-type {\n",
       "        vertical-align: middle;\n",
       "    }\n",
       "\n",
       "    .dataframe tbody tr th {\n",
       "        vertical-align: top;\n",
       "    }\n",
       "\n",
       "    .dataframe thead th {\n",
       "        text-align: right;\n",
       "    }\n",
       "</style>\n",
       "<table border=\"1\" class=\"dataframe\">\n",
       "  <thead>\n",
       "    <tr style=\"text-align: right;\">\n",
       "      <th></th>\n",
       "      <th>age</th>\n",
       "      <th>pclass</th>\n",
       "    </tr>\n",
       "  </thead>\n",
       "  <tbody>\n",
       "    <tr>\n",
       "      <th>0</th>\n",
       "      <td>adult</td>\n",
       "      <td>1st</td>\n",
       "    </tr>\n",
       "    <tr>\n",
       "      <th>1</th>\n",
       "      <td>adult</td>\n",
       "      <td>1st</td>\n",
       "    </tr>\n",
       "    <tr>\n",
       "      <th>2</th>\n",
       "      <td>adult</td>\n",
       "      <td>1st</td>\n",
       "    </tr>\n",
       "    <tr>\n",
       "      <th>3</th>\n",
       "      <td>adult</td>\n",
       "      <td>1st</td>\n",
       "    </tr>\n",
       "    <tr>\n",
       "      <th>4</th>\n",
       "      <td>adult</td>\n",
       "      <td>1st</td>\n",
       "    </tr>\n",
       "    <tr>\n",
       "      <th>...</th>\n",
       "      <td>...</td>\n",
       "      <td>...</td>\n",
       "    </tr>\n",
       "    <tr>\n",
       "      <th>2196</th>\n",
       "      <td>adult</td>\n",
       "      <td>crew</td>\n",
       "    </tr>\n",
       "    <tr>\n",
       "      <th>2197</th>\n",
       "      <td>adult</td>\n",
       "      <td>crew</td>\n",
       "    </tr>\n",
       "    <tr>\n",
       "      <th>2198</th>\n",
       "      <td>adult</td>\n",
       "      <td>crew</td>\n",
       "    </tr>\n",
       "    <tr>\n",
       "      <th>2199</th>\n",
       "      <td>adult</td>\n",
       "      <td>crew</td>\n",
       "    </tr>\n",
       "    <tr>\n",
       "      <th>2200</th>\n",
       "      <td>adult</td>\n",
       "      <td>crew</td>\n",
       "    </tr>\n",
       "  </tbody>\n",
       "</table>\n",
       "<p>2201 rows × 2 columns</p>\n",
       "</div>"
      ],
      "text/plain": [
       "        age pclass\n",
       "0     adult    1st\n",
       "1     adult    1st\n",
       "2     adult    1st\n",
       "3     adult    1st\n",
       "4     adult    1st\n",
       "...     ...    ...\n",
       "2196  adult   crew\n",
       "2197  adult   crew\n",
       "2198  adult   crew\n",
       "2199  adult   crew\n",
       "2200  adult   crew\n",
       "\n",
       "[2201 rows x 2 columns]"
      ]
     },
     "execution_count": 106,
     "metadata": {},
     "output_type": "execute_result"
    }
   ],
   "source": [
    "titanic[['age', 'pclass']]"
   ]
  },
  {
   "cell_type": "code",
   "execution_count": 108,
   "id": "761ef92b",
   "metadata": {},
   "outputs": [
    {
     "data": {
      "text/html": [
       "<div>\n",
       "<style scoped>\n",
       "    .dataframe tbody tr th:only-of-type {\n",
       "        vertical-align: middle;\n",
       "    }\n",
       "\n",
       "    .dataframe tbody tr th {\n",
       "        vertical-align: top;\n",
       "    }\n",
       "\n",
       "    .dataframe thead th {\n",
       "        text-align: right;\n",
       "    }\n",
       "</style>\n",
       "<table border=\"1\" class=\"dataframe\">\n",
       "  <thead>\n",
       "    <tr style=\"text-align: right;\">\n",
       "      <th></th>\n",
       "      <th>pclass</th>\n",
       "      <th>age</th>\n",
       "      <th>sex</th>\n",
       "      <th>survived</th>\n",
       "    </tr>\n",
       "  </thead>\n",
       "  <tbody>\n",
       "    <tr>\n",
       "      <th>586</th>\n",
       "      <td>2nd</td>\n",
       "      <td>child</td>\n",
       "      <td>male</td>\n",
       "      <td>yes</td>\n",
       "    </tr>\n",
       "    <tr>\n",
       "      <th>587</th>\n",
       "      <td>2nd</td>\n",
       "      <td>child</td>\n",
       "      <td>male</td>\n",
       "      <td>yes</td>\n",
       "    </tr>\n",
       "    <tr>\n",
       "      <th>588</th>\n",
       "      <td>2nd</td>\n",
       "      <td>child</td>\n",
       "      <td>male</td>\n",
       "      <td>yes</td>\n",
       "    </tr>\n",
       "    <tr>\n",
       "      <th>589</th>\n",
       "      <td>2nd</td>\n",
       "      <td>child</td>\n",
       "      <td>male</td>\n",
       "      <td>yes</td>\n",
       "    </tr>\n",
       "    <tr>\n",
       "      <th>590</th>\n",
       "      <td>2nd</td>\n",
       "      <td>child</td>\n",
       "      <td>male</td>\n",
       "      <td>yes</td>\n",
       "    </tr>\n",
       "    <tr>\n",
       "      <th>591</th>\n",
       "      <td>2nd</td>\n",
       "      <td>child</td>\n",
       "      <td>male</td>\n",
       "      <td>yes</td>\n",
       "    </tr>\n",
       "    <tr>\n",
       "      <th>592</th>\n",
       "      <td>2nd</td>\n",
       "      <td>child</td>\n",
       "      <td>male</td>\n",
       "      <td>yes</td>\n",
       "    </tr>\n",
       "    <tr>\n",
       "      <th>593</th>\n",
       "      <td>2nd</td>\n",
       "      <td>child</td>\n",
       "      <td>male</td>\n",
       "      <td>yes</td>\n",
       "    </tr>\n",
       "    <tr>\n",
       "      <th>594</th>\n",
       "      <td>2nd</td>\n",
       "      <td>child</td>\n",
       "      <td>male</td>\n",
       "      <td>yes</td>\n",
       "    </tr>\n",
       "    <tr>\n",
       "      <th>595</th>\n",
       "      <td>2nd</td>\n",
       "      <td>child</td>\n",
       "      <td>male</td>\n",
       "      <td>yes</td>\n",
       "    </tr>\n",
       "    <tr>\n",
       "      <th>596</th>\n",
       "      <td>2nd</td>\n",
       "      <td>child</td>\n",
       "      <td>male</td>\n",
       "      <td>yes</td>\n",
       "    </tr>\n",
       "    <tr>\n",
       "      <th>597</th>\n",
       "      <td>2nd</td>\n",
       "      <td>child</td>\n",
       "      <td>female</td>\n",
       "      <td>yes</td>\n",
       "    </tr>\n",
       "    <tr>\n",
       "      <th>598</th>\n",
       "      <td>2nd</td>\n",
       "      <td>child</td>\n",
       "      <td>female</td>\n",
       "      <td>yes</td>\n",
       "    </tr>\n",
       "    <tr>\n",
       "      <th>599</th>\n",
       "      <td>2nd</td>\n",
       "      <td>child</td>\n",
       "      <td>female</td>\n",
       "      <td>yes</td>\n",
       "    </tr>\n",
       "    <tr>\n",
       "      <th>600</th>\n",
       "      <td>2nd</td>\n",
       "      <td>child</td>\n",
       "      <td>female</td>\n",
       "      <td>yes</td>\n",
       "    </tr>\n",
       "    <tr>\n",
       "      <th>601</th>\n",
       "      <td>2nd</td>\n",
       "      <td>child</td>\n",
       "      <td>female</td>\n",
       "      <td>yes</td>\n",
       "    </tr>\n",
       "    <tr>\n",
       "      <th>602</th>\n",
       "      <td>2nd</td>\n",
       "      <td>child</td>\n",
       "      <td>female</td>\n",
       "      <td>yes</td>\n",
       "    </tr>\n",
       "    <tr>\n",
       "      <th>603</th>\n",
       "      <td>2nd</td>\n",
       "      <td>child</td>\n",
       "      <td>female</td>\n",
       "      <td>yes</td>\n",
       "    </tr>\n",
       "    <tr>\n",
       "      <th>604</th>\n",
       "      <td>2nd</td>\n",
       "      <td>child</td>\n",
       "      <td>female</td>\n",
       "      <td>yes</td>\n",
       "    </tr>\n",
       "    <tr>\n",
       "      <th>605</th>\n",
       "      <td>2nd</td>\n",
       "      <td>child</td>\n",
       "      <td>female</td>\n",
       "      <td>yes</td>\n",
       "    </tr>\n",
       "    <tr>\n",
       "      <th>606</th>\n",
       "      <td>2nd</td>\n",
       "      <td>child</td>\n",
       "      <td>female</td>\n",
       "      <td>yes</td>\n",
       "    </tr>\n",
       "    <tr>\n",
       "      <th>607</th>\n",
       "      <td>2nd</td>\n",
       "      <td>child</td>\n",
       "      <td>female</td>\n",
       "      <td>yes</td>\n",
       "    </tr>\n",
       "    <tr>\n",
       "      <th>608</th>\n",
       "      <td>2nd</td>\n",
       "      <td>child</td>\n",
       "      <td>female</td>\n",
       "      <td>yes</td>\n",
       "    </tr>\n",
       "    <tr>\n",
       "      <th>609</th>\n",
       "      <td>2nd</td>\n",
       "      <td>child</td>\n",
       "      <td>female</td>\n",
       "      <td>yes</td>\n",
       "    </tr>\n",
       "  </tbody>\n",
       "</table>\n",
       "</div>"
      ],
      "text/plain": [
       "    pclass    age     sex survived\n",
       "586    2nd  child    male      yes\n",
       "587    2nd  child    male      yes\n",
       "588    2nd  child    male      yes\n",
       "589    2nd  child    male      yes\n",
       "590    2nd  child    male      yes\n",
       "591    2nd  child    male      yes\n",
       "592    2nd  child    male      yes\n",
       "593    2nd  child    male      yes\n",
       "594    2nd  child    male      yes\n",
       "595    2nd  child    male      yes\n",
       "596    2nd  child    male      yes\n",
       "597    2nd  child  female      yes\n",
       "598    2nd  child  female      yes\n",
       "599    2nd  child  female      yes\n",
       "600    2nd  child  female      yes\n",
       "601    2nd  child  female      yes\n",
       "602    2nd  child  female      yes\n",
       "603    2nd  child  female      yes\n",
       "604    2nd  child  female      yes\n",
       "605    2nd  child  female      yes\n",
       "606    2nd  child  female      yes\n",
       "607    2nd  child  female      yes\n",
       "608    2nd  child  female      yes\n",
       "609    2nd  child  female      yes"
      ]
     },
     "execution_count": 108,
     "metadata": {},
     "output_type": "execute_result"
    }
   ],
   "source": [
    "titanic[(titanic.age=='child') & (titanic.pclass=='2nd')]"
   ]
  },
  {
   "cell_type": "code",
   "execution_count": 109,
   "id": "9ca546b7",
   "metadata": {},
   "outputs": [
    {
     "data": {
      "text/html": [
       "<div>\n",
       "<style scoped>\n",
       "    .dataframe tbody tr th:only-of-type {\n",
       "        vertical-align: middle;\n",
       "    }\n",
       "\n",
       "    .dataframe tbody tr th {\n",
       "        vertical-align: top;\n",
       "    }\n",
       "\n",
       "    .dataframe thead th {\n",
       "        text-align: right;\n",
       "    }\n",
       "</style>\n",
       "<table border=\"1\" class=\"dataframe\">\n",
       "  <thead>\n",
       "    <tr style=\"text-align: right;\">\n",
       "      <th></th>\n",
       "      <th>pclass</th>\n",
       "      <th>age</th>\n",
       "      <th>sex</th>\n",
       "      <th>survived</th>\n",
       "    </tr>\n",
       "  </thead>\n",
       "  <tbody>\n",
       "    <tr>\n",
       "      <th>320</th>\n",
       "      <td>1st</td>\n",
       "      <td>child</td>\n",
       "      <td>male</td>\n",
       "      <td>yes</td>\n",
       "    </tr>\n",
       "    <tr>\n",
       "      <th>321</th>\n",
       "      <td>1st</td>\n",
       "      <td>child</td>\n",
       "      <td>male</td>\n",
       "      <td>yes</td>\n",
       "    </tr>\n",
       "    <tr>\n",
       "      <th>322</th>\n",
       "      <td>1st</td>\n",
       "      <td>child</td>\n",
       "      <td>male</td>\n",
       "      <td>yes</td>\n",
       "    </tr>\n",
       "    <tr>\n",
       "      <th>323</th>\n",
       "      <td>1st</td>\n",
       "      <td>child</td>\n",
       "      <td>male</td>\n",
       "      <td>yes</td>\n",
       "    </tr>\n",
       "    <tr>\n",
       "      <th>324</th>\n",
       "      <td>1st</td>\n",
       "      <td>child</td>\n",
       "      <td>female</td>\n",
       "      <td>yes</td>\n",
       "    </tr>\n",
       "    <tr>\n",
       "      <th>325</th>\n",
       "      <td>2nd</td>\n",
       "      <td>adult</td>\n",
       "      <td>male</td>\n",
       "      <td>yes</td>\n",
       "    </tr>\n",
       "    <tr>\n",
       "      <th>326</th>\n",
       "      <td>2nd</td>\n",
       "      <td>adult</td>\n",
       "      <td>male</td>\n",
       "      <td>yes</td>\n",
       "    </tr>\n",
       "    <tr>\n",
       "      <th>327</th>\n",
       "      <td>2nd</td>\n",
       "      <td>adult</td>\n",
       "      <td>male</td>\n",
       "      <td>yes</td>\n",
       "    </tr>\n",
       "    <tr>\n",
       "      <th>328</th>\n",
       "      <td>2nd</td>\n",
       "      <td>adult</td>\n",
       "      <td>male</td>\n",
       "      <td>yes</td>\n",
       "    </tr>\n",
       "    <tr>\n",
       "      <th>329</th>\n",
       "      <td>2nd</td>\n",
       "      <td>adult</td>\n",
       "      <td>male</td>\n",
       "      <td>yes</td>\n",
       "    </tr>\n",
       "  </tbody>\n",
       "</table>\n",
       "</div>"
      ],
      "text/plain": [
       "    pclass    age     sex survived\n",
       "320    1st  child    male      yes\n",
       "321    1st  child    male      yes\n",
       "322    1st  child    male      yes\n",
       "323    1st  child    male      yes\n",
       "324    1st  child  female      yes\n",
       "325    2nd  adult    male      yes\n",
       "326    2nd  adult    male      yes\n",
       "327    2nd  adult    male      yes\n",
       "328    2nd  adult    male      yes\n",
       "329    2nd  adult    male      yes"
      ]
     },
     "execution_count": 109,
     "metadata": {},
     "output_type": "execute_result"
    }
   ],
   "source": [
    "titanic[320:330]"
   ]
  },
  {
   "cell_type": "code",
   "execution_count": 117,
   "id": "b6b8a44c",
   "metadata": {},
   "outputs": [
    {
     "data": {
      "text/plain": [
       "age\n",
       "adult    2092\n",
       "child     109\n",
       "dtype: int64"
      ]
     },
     "execution_count": 117,
     "metadata": {},
     "output_type": "execute_result"
    }
   ],
   "source": [
    "by_age=titanic.groupby('age')\n",
    "by_age.size()"
   ]
  },
  {
   "cell_type": "code",
   "execution_count": 120,
   "id": "a60c14d0",
   "metadata": {},
   "outputs": [
    {
     "name": "stdout",
     "output_type": "stream",
     "text": [
      "sex\n",
      "female     470\n",
      "male      1731\n",
      "dtype: int64\n",
      "survived  sex   \n",
      "no        female     126\n",
      "          male      1364\n",
      "yes       female     344\n",
      "          male       367\n",
      "dtype: int64\n"
     ]
    }
   ],
   "source": [
    "print(titanic.groupby(['sex']).size())\n",
    "print(titanic.groupby(['survived', 'sex']).size())\n"
   ]
  },
  {
   "cell_type": "code",
   "execution_count": null,
   "id": "ef4c13c5",
   "metadata": {},
   "outputs": [],
   "source": [
    "#And Data Analysis"
   ]
  }
 ],
 "metadata": {
  "kernelspec": {
   "display_name": "Python 3",
   "language": "python",
   "name": "python3"
  },
  "language_info": {
   "codemirror_mode": {
    "name": "ipython",
    "version": 3
   },
   "file_extension": ".py",
   "mimetype": "text/x-python",
   "name": "python",
   "nbconvert_exporter": "python",
   "pygments_lexer": "ipython3",
   "version": "3.8.8"
  }
 },
 "nbformat": 4,
 "nbformat_minor": 5
}
